{
  "nbformat": 4,
  "nbformat_minor": 0,
  "metadata": {
    "colab": {
      "name": "Copy of GroupAssignment1-Template.ipynb",
      "provenance": [],
      "include_colab_link": true
    },
    "kernelspec": {
      "name": "python3",
      "display_name": "Python 3"
    }
  },
  "cells": [
    {
      "cell_type": "markdown",
      "metadata": {
        "id": "view-in-github",
        "colab_type": "text"
      },
      "source": [
        "<a href=\"https://colab.research.google.com/github/kmd6660/IST-Material/blob/master/Copy_of_GroupAssignment1_Template.ipynb\" target=\"_parent\"><img src=\"https://colab.research.google.com/assets/colab-badge.svg\" alt=\"Open In Colab\"/></a>"
      ]
    },
    {
      "cell_type": "markdown",
      "metadata": {
        "id": "UblhAIGuGF27"
      },
      "source": [
        "# restaurant/bar information"
      ]
    },
    {
      "cell_type": "markdown",
      "metadata": {
        "id": "RlR0_Ol4GW3b"
      },
      "source": [
        "### what is your idea?"
      ]
    },
    {
      "cell_type": "markdown",
      "metadata": {
        "id": "HU68Zv5MGY97"
      },
      "source": [
        "Our idea is to do a restaurant/bar and its entities and attributes. We will make a database that can be used to access a wide variety of information for a restaurant"
      ]
    },
    {
      "cell_type": "markdown",
      "metadata": {
        "id": "45Q0PBrIGiIg"
      },
      "source": [
        "### what makes it unique?"
      ]
    },
    {
      "cell_type": "markdown",
      "metadata": {
        "id": "8WOfTAuqGjoc"
      },
      "source": [
        "One unique thing about this idea is that it is a small buisness. It also has a large quantity of dynamic attributes."
      ]
    },
    {
      "cell_type": "markdown",
      "metadata": {
        "id": "dVrktWdXGl19"
      },
      "source": [
        "### is this a brand-new product or business, or are you borrowing from another business?"
      ]
    },
    {
      "cell_type": "markdown",
      "metadata": {
        "id": "MmGY0leUGnaN"
      },
      "source": [
        "This is not a unique buisness idea. There are many existing restaurant/bar hybrid."
      ]
    },
    {
      "cell_type": "markdown",
      "metadata": {
        "id": "k3oJzVDPGnws"
      },
      "source": [
        "### describe a typical business interaction or a day at your business."
      ]
    },
    {
      "cell_type": "markdown",
      "metadata": {
        "id": "GeEKl-lUG1x5"
      },
      "source": [
        "First the customer enters the buisniness and is greeted by the host/hostess. They then are asked if they want normal seating or the bar. They pick one and are escorted there where they order thier product. They then concume said product, pay, and leave."
      ]
    },
    {
      "cell_type": "markdown",
      "metadata": {
        "id": "iUFoC5BuGpID"
      },
      "source": [
        "### list your 5 entities/tables and for each, provide details about what data will be stored in the entities/tables."
      ]
    },
    {
      "cell_type": "markdown",
      "metadata": {
        "id": "AiZXrfSMGqZm"
      },
      "source": [
        "1. staff\n",
        "\n",
        "-- number of staff, gender, pay, fulltime or part time.\n",
        "\n",
        "2. food menu\n",
        "\n",
        "-- average price, popularity of dishes, seasonal dishes.\n",
        "\n",
        "3. drink menu\n",
        "\n",
        "-- average price, quanitity of each drink, frequency each drink is ordered.\n",
        "\n",
        "4. phytsical location\n",
        "\n",
        "-- number of tables, number of bar seats, maximum occupency.\n",
        "\n",
        "5. reviews\n",
        "\n",
        "-- avewrage review, number of reviews, frequency of reviews from patrons."
      ]
    },
    {
      "cell_type": "markdown",
      "metadata": {
        "id": "h2mJWTewHLSn"
      },
      "source": [
        "Draw IO Entity Relationship Diagram \n",
        "\n",
        "- save your ER Diagram in Draw.io as PNG and upload it to GitHub\n",
        "\n",
        "  - then add an image to your notebook"
      ]
    },
    {
      "cell_type": "markdown",
      "metadata": {
        "id": "959e4ckiGsUt"
      },
      "source": [
        "![ER Diagram](https://raw.githubusercontent.com/NWG4735/IST-210/07416ab52d3e24cd7494b1b38db39d9dcf1f8f8b/ER%20Diagram%20Group%20Project.png)"
      ]
    },
    {
      "cell_type": "markdown",
      "metadata": {
        "id": "WFQXwieoHiCe"
      },
      "source": [
        "### provide a goal for your project "
      ]
    },
    {
      "cell_type": "markdown",
      "metadata": {
        "id": "cKmoiVHrHnHF"
      },
      "source": [
        "our goal with this project is to learn more about dynamic entities/attributes. Our project haas many of these and therefore will be a good learning expirience."
      ]
    }
  ]
}