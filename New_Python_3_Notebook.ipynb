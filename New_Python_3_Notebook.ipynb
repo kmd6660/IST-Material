{
  "nbformat": 4,
  "nbformat_minor": 0,
  "metadata": {
    "colab": {
      "name": "New Python 3 Notebook",
      "provenance": [],
      "authorship_tag": "ABX9TyP6wBBAylyiNBFoRoXpYbbU",
      "include_colab_link": true
    },
    "kernelspec": {
      "name": "python3",
      "display_name": "Python 3"
    }
  },
  "cells": [
    {
      "cell_type": "markdown",
      "metadata": {
        "id": "view-in-github",
        "colab_type": "text"
      },
      "source": [
        "<a href=\"https://colab.research.google.com/github/kmd6660/IST-Material/blob/master/New_Python_3_Notebook.ipynb\" target=\"_parent\"><img src=\"https://colab.research.google.com/assets/colab-badge.svg\" alt=\"Open In Colab\"/></a>"
      ]
    },
    {
      "cell_type": "markdown",
      "metadata": {
        "id": "v25Usr-SlNdw",
        "colab_type": "text"
      },
      "source": [
        "# Yes, I like using Jupyter Notebooks because it allows me to learn coding."
      ]
    },
    {
      "cell_type": "markdown",
      "metadata": {
        "id": "jdoagPzolfPT",
        "colab_type": "text"
      },
      "source": [
        "## My name is Kaci Deane. I am a freshman at PSU."
      ]
    },
    {
      "cell_type": "markdown",
      "metadata": {
        "id": "HWlgVggllukE",
        "colab_type": "text"
      },
      "source": [
        "### In Jupyter Notebook, I want to learn more short cuts to cells. "
      ]
    },
    {
      "cell_type": "markdown",
      "metadata": {
        "id": "esyFQqVFmENS",
        "colab_type": "text"
      },
      "source": [
        "#### I have two dogs. Their names are Lily and Daisy. "
      ]
    },
    {
      "cell_type": "markdown",
      "metadata": {
        "id": "RBxeMx1_mlH6",
        "colab_type": "text"
      },
      "source": [
        "![my dog](https://raw.githubusercontent.com/kmd6660/IST-Material/master/images/BF9F25A9-6A3B-448E-A9FE-1B042F1E978D.jpeg) \n"
      ]
    }
  ]
}