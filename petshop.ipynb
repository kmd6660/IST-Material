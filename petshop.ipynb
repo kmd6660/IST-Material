{
  "nbformat": 4,
  "nbformat_minor": 0,
  "metadata": {
    "colab": {
      "name": "Untitled",
      "provenance": [],
      "authorship_tag": "ABX9TyOenX+TsfM9VZSb8if4j0Yv",
      "include_colab_link": true
    },
    "kernelspec": {
      "name": "python3",
      "display_name": "Python 3"
    }
  },
  "cells": [
    {
      "cell_type": "markdown",
      "metadata": {
        "id": "view-in-github",
        "colab_type": "text"
      },
      "source": [
        "<a href=\"https://colab.research.google.com/github/kmd6660/IST-Material/blob/master/petshop.ipynb\" target=\"_parent\"><img src=\"https://colab.research.google.com/assets/colab-badge.svg\" alt=\"Open In Colab\"/></a>"
      ]
    },
    {
      "cell_type": "markdown",
      "metadata": {
        "id": "FanbvfJj0Yk3"
      },
      "source": [
        "[pet shop diagram](https://raw.githubusercontent.com/kmd6660/IST-Material/master/Untitled%20Diagram.png)"
      ]
    },
    {
      "cell_type": "markdown",
      "metadata": {
        "id": "-7aabljp0gXa"
      },
      "source": [
        "I have developed a database for the pet shop I work at. It includes six attributes, with several entities included in each. The attributes included are pets, food, purchases, enclosures, the customer, and receipts. I created this for my manager to help keep the shop organized because a database can improve the quality of the shop, service, and workspace. Organizing relationships between the data also increases the quality of the pet shop. For example, the customer buys the pet, the customer purchases the food, and the customer receives a receipt. The entities also show if it is one to one, or one to many. This helps people have an understanding of the relationships explained in the diagram.\n"
      ]
    }
  ]
}